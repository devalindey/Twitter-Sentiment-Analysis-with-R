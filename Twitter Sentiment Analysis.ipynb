{
 "cells": [
  {
   "cell_type": "markdown",
   "metadata": {},
   "source": [
    "# Twitter Sentiment Analysis in R"
   ]
  },
  {
   "cell_type": "markdown",
   "metadata": {},
   "source": [
    "**Intuition:** Using the 'twitteR' package, we will gather aroung 50 Tweets based on a trending topic and then we will analyze the sentiment of these Tweets with the 'tidytext' package. Finally, we will plot our overall result on a bar chart."
   ]
  },
  {
   "cell_type": "markdown",
   "metadata": {},
   "source": [
    "### Importing the packages"
   ]
  },
  {
   "cell_type": "code",
   "execution_count": 12,
   "metadata": {},
   "outputs": [],
   "source": [
    "options(warn = -1)\n",
    "library(twitteR)\n",
    "library(plyr)\n",
    "library(dplyr)\n",
    "library(tidytext)\n",
    "library(ggplot2)"
   ]
  },
  {
   "cell_type": "markdown",
   "metadata": {},
   "source": [
    "### Authorizing the Twitter API"
   ]
  },
  {
   "cell_type": "code",
   "execution_count": 3,
   "metadata": {
    "scrolled": true
   },
   "outputs": [
    {
     "name": "stdout",
     "output_type": "stream",
     "text": [
      "[1] \"Using direct authentication\"\n"
     ]
    },
    {
     "name": "stderr",
     "output_type": "stream",
     "text": [
      "Registered S3 method overwritten by 'openssl':\n",
      "  method      from\n",
      "  print.bytes Rcpp\n"
     ]
    }
   ],
   "source": [
    "consumer_key = 'xxxxxxxxxxxxxxxxxxxxxxxxx'\n",
    "consumer_secret = 'xxxxxxxxxxxxxxxxxxxxxxxxxxxxxxxxxxxxxxxxxxxxxxxxxx'\n",
    "access_token = 'xxxxxxxxx-xxxxxxxxxxxxxxxxxxxxxxxxxxxxxxxxxxxxxxxx'\n",
    "access_secret = 'xxxxxxxxxxxxxxxxxxxxxxxxxxxxxxxxxxxxxxxxxxxxx'\n",
    "setup_twitter_oauth(consumer_key, consumer_secret,\n",
    "                    access_token, access_secret)"
   ]
  },
  {
   "cell_type": "markdown",
   "metadata": {},
   "source": [
    "*The Keys & Tokens has been removed to avoid misuse.*"
   ]
  },
  {
   "cell_type": "markdown",
   "metadata": {},
   "source": [
    "### Getting the Tweets"
   ]
  },
  {
   "cell_type": "code",
   "execution_count": 4,
   "metadata": {
    "scrolled": true
   },
   "outputs": [
    {
     "data": {
      "text/html": [
       "<table>\n",
       "<thead><tr><th scope=col>text</th><th scope=col>favorited</th><th scope=col>favoriteCount</th><th scope=col>replyToSN</th><th scope=col>created</th><th scope=col>truncated</th><th scope=col>replyToSID</th><th scope=col>id</th><th scope=col>replyToUID</th><th scope=col>statusSource</th><th scope=col>screenName</th><th scope=col>retweetCount</th><th scope=col>isRetweet</th><th scope=col>retweeted</th><th scope=col>longitude</th><th scope=col>latitude</th></tr></thead>\n",
       "<tbody>\n",
       "\t<tr><td><span style=white-space:pre-wrap>@tavleen_singh You do NOT Worry.\n",
       "\n",
       "#NRC will SAVE the very Fabric of BHARAT.                                                                    </span></td><td>FALSE                                                                                                                                                                                    </td><td>0                                                                                                                                                                                        </td><td>tavleen_singh                                                                                                                                                                            </td><td>2019-12-16 14:58:00                                                                                                                                                                      </td><td>FALSE                                                                                                                                                                                    </td><td>1206386143664566272                                                                                                                                                                      </td><td>1206589295856934913                                                                                                                                                                      </td><td>118757160                                                                                                                                                                                </td><td><span style=white-space:pre-wrap>&lt;a href=\"https://mobile.twitter.com\" rel=\"nofollow\"&gt;Twitter Web App&lt;/a&gt;             </span>                                                 </td><td><span style=white-space:pre-wrap>ShahDeepanV    </span>                                                                                                                                  </td><td><span style=white-space:pre-wrap>  0</span>                                                                                                                                              </td><td>FALSE                                                                                                                                                                                    </td><td>FALSE                                                                                                                                                                                    </td><td>NA                                                                                                                                                                                       </td><td>NA                                                                                                                                                                                       </td></tr>\n",
       "\t<tr><td><span style=white-space:pre-wrap>RT @FriedrichPieter: Arundhati Roy's statement on #CABBill2019. It \"eerily resembles the 1935 Nuremberg Laws of the Third Reich.\" Complianc…     </span></td><td>FALSE                                                                                                                                                                                    </td><td>0                                                                                                                                                                                        </td><td><span style=white-space:pre-wrap>NA           </span>                                                                                                                                    </td><td>2019-12-16 14:57:37                                                                                                                                                                      </td><td>FALSE                                                                                                                                                                                    </td><td><span style=white-space:pre-wrap>NA                 </span>                                                                                                                              </td><td>1206589202655264769                                                                                                                                                                      </td><td><span style=white-space:pre-wrap>NA       </span>                                                                                                                                        </td><td>&lt;a href=\"http://twitter.com/download/android\" rel=\"nofollow\"&gt;Twitter for Android&lt;/a&gt;                                                                                         </td><td><span style=white-space:pre-wrap>VazeIndian     </span>                                                                                                                                  </td><td>172                                                                                                                                                                                      </td><td> TRUE                                                                                                                                                                                    </td><td>FALSE                                                                                                                                                                                    </td><td>NA                                                                                                                                                                                       </td><td>NA                                                                                                                                                                                       </td></tr>\n",
       "\t<tr><td><span style=white-space:pre-wrap>RT @Ahmedshabbir20: Massive rally against #CAB &amp;amp; #NRC by #MamataBanerjee. Mamata leadeong the rally &amp;amp; huge crowd following her.          </span></td><td>FALSE                                                                                                                                                                                            </td><td>0                                                                                                                                                                                                </td><td><span style=white-space:pre-wrap>NA           </span>                                                                                                                                            </td><td>2019-12-16 14:57:29                                                                                                                                                                              </td><td>FALSE                                                                                                                                                                                            </td><td><span style=white-space:pre-wrap>NA                 </span>                                                                                                                                      </td><td>1206589165963374592                                                                                                                                                                              </td><td><span style=white-space:pre-wrap>NA       </span>                                                                                                                                                </td><td>&lt;a href=\"http://twitter.com/download/android\" rel=\"nofollow\"&gt;Twitter for Android&lt;/a&gt;                                                                                                 </td><td><span style=white-space:pre-wrap>d_oncorleone   </span>                                                                                                                                          </td><td>206                                                                                                                                                                                              </td><td> TRUE                                                                                                                                                                                            </td><td>FALSE                                                                                                                                                                                            </td><td>NA                                                                                                                                                                                               </td><td>NA                                                                                                                                                                                               </td></tr>\n",
       "\t<tr><td><span style=white-space:pre-wrap>RT @abhijitmajumder: Here’s some news for those who said #CAA and #NRC would change nothing.\n",
       "This report says there’s a huge rush of panick…    </span></td><td>FALSE                                                                                                                                                                                    </td><td>0                                                                                                                                                                                        </td><td><span style=white-space:pre-wrap>NA           </span>                                                                                                                                    </td><td>2019-12-16 14:57:23                                                                                                                                                                      </td><td>FALSE                                                                                                                                                                                    </td><td><span style=white-space:pre-wrap>NA                 </span>                                                                                                                              </td><td>1206589144069095430                                                                                                                                                                      </td><td><span style=white-space:pre-wrap>NA       </span>                                                                                                                                        </td><td>&lt;a href=\"http://twitter.com/download/android\" rel=\"nofollow\"&gt;Twitter for Android&lt;/a&gt;                                                                                         </td><td><span style=white-space:pre-wrap>gunaranjanch   </span>                                                                                                                                  </td><td>729                                                                                                                                                                                      </td><td> TRUE                                                                                                                                                                                    </td><td>FALSE                                                                                                                                                                                    </td><td>NA                                                                                                                                                                                       </td><td>NA                                                                                                                                                                                       </td></tr>\n",
       "\t<tr><td><span style=white-space:pre-wrap>RT @kamaalrkhan: If this is the public reaction for #CABBill2019 #NRC then it can lead to civil war in the country. Therefore govt must ret…     </span></td><td>FALSE                                                                                                                                                                                    </td><td>0                                                                                                                                                                                        </td><td><span style=white-space:pre-wrap>NA           </span>                                                                                                                                    </td><td>2019-12-16 14:57:20                                                                                                                                                                      </td><td>FALSE                                                                                                                                                                                    </td><td><span style=white-space:pre-wrap>NA                 </span>                                                                                                                              </td><td>1206589128185237504                                                                                                                                                                      </td><td><span style=white-space:pre-wrap>NA       </span>                                                                                                                                        </td><td>&lt;a href=\"http://twitter.com/download/android\" rel=\"nofollow\"&gt;Twitter for Android&lt;/a&gt;                                                                                         </td><td><span style=white-space:pre-wrap>MdAatifHasan   </span>                                                                                                                                  </td><td>138                                                                                                                                                                                      </td><td> TRUE                                                                                                                                                                                    </td><td>FALSE                                                                                                                                                                                    </td><td>NA                                                                                                                                                                                       </td><td>NA                                                                                                                                                                                       </td></tr>\n",
       "\t<tr><td><span style=white-space:pre-wrap>Today's protests in Kolkata, Mamta Banerjee leading right in the front\n",
       "\n",
       "#CAB #NRC https://t.co/SA3xfFlbyF                                      </span></td><td>FALSE                                                                                                                                                                                    </td><td>0                                                                                                                                                                                        </td><td><span style=white-space:pre-wrap>NA           </span>                                                                                                                                    </td><td>2019-12-16 14:57:15                                                                                                                                                                      </td><td>FALSE                                                                                                                                                                                    </td><td><span style=white-space:pre-wrap>NA                 </span>                                                                                                                              </td><td>1206589109818527745                                                                                                                                                                      </td><td><span style=white-space:pre-wrap>NA       </span>                                                                                                                                        </td><td>&lt;a href=\"http://twitter.com/download/android\" rel=\"nofollow\"&gt;Twitter for Android&lt;/a&gt;                                                                                         </td><td><span style=white-space:pre-wrap>Isaaq44897387  </span>                                                                                                                                  </td><td><span style=white-space:pre-wrap>  0</span>                                                                                                                                              </td><td>FALSE                                                                                                                                                                                    </td><td>FALSE                                                                                                                                                                                    </td><td>NA                                                                                                                                                                                       </td><td>NA                                                                                                                                                                                       </td></tr>\n",
       "\t<tr><td><span style=white-space:pre-wrap>RT @chaiandwai: The #MumbaiUniversity protest against the #PoliceBrutalityinJamia , #CitizenshipAmendmentAct and #NRC concluded with everyo…     </span></td><td>FALSE                                                                                                                                                                                    </td><td>0                                                                                                                                                                                        </td><td><span style=white-space:pre-wrap>NA           </span>                                                                                                                                    </td><td>2019-12-16 14:57:08                                                                                                                                                                      </td><td>FALSE                                                                                                                                                                                    </td><td><span style=white-space:pre-wrap>NA                 </span>                                                                                                                              </td><td>1206589078260502529                                                                                                                                                                      </td><td><span style=white-space:pre-wrap>NA       </span>                                                                                                                                        </td><td><span style=white-space:pre-wrap>&lt;a href=\"https://mobile.twitter.com\" rel=\"nofollow\"&gt;Twitter Web App&lt;/a&gt;             </span>                                                 </td><td>avatarinfinite                                                                                                                                                                           </td><td> 11                                                                                                                                                                                      </td><td> TRUE                                                                                                                                                                                    </td><td>FALSE                                                                                                                                                                                    </td><td>NA                                                                                                                                                                                       </td><td>NA                                                                                                                                                                                       </td></tr>\n",
       "\t<tr><td><span style=white-space:pre-wrap>RT @bharatsharma_: Those who hero-worship Aurangzeb, Babur, #ISIS and Osama Bin Laden, how can they deem #CAB and #NRC correct.\n",
       "It makes th…    </span></td><td>FALSE                                                                                                                                                                                    </td><td>0                                                                                                                                                                                        </td><td><span style=white-space:pre-wrap>NA           </span>                                                                                                                                    </td><td>2019-12-16 14:56:47                                                                                                                                                                      </td><td>FALSE                                                                                                                                                                                    </td><td><span style=white-space:pre-wrap>NA                 </span>                                                                                                                              </td><td>1206588991652286466                                                                                                                                                                      </td><td><span style=white-space:pre-wrap>NA       </span>                                                                                                                                        </td><td>&lt;a href=\"http://twitter.com/download/android\" rel=\"nofollow\"&gt;Twitter for Android&lt;/a&gt;                                                                                         </td><td><span style=white-space:pre-wrap>Tapasyasin     </span>                                                                                                                                  </td><td> 10                                                                                                                                                                                      </td><td> TRUE                                                                                                                                                                                    </td><td>FALSE                                                                                                                                                                                    </td><td>NA                                                                                                                                                                                       </td><td>NA                                                                                                                                                                                       </td></tr>\n",
       "\t<tr><td>RT @mayukhrghosh: #CABProtests #NRC \n",
       "\"Over My Dead Body\"\n",
       "\n",
       "@MamataOfficial marches forward with people from all RELIGION. \n",
       "\n",
       "This is my City.…</td><td>FALSE                                                                                                                                            </td><td>0                                                                                                                                                </td><td><span style=white-space:pre-wrap>NA           </span>                                                                                            </td><td>2019-12-16 14:56:37                                                                                                                              </td><td>FALSE                                                                                                                                            </td><td><span style=white-space:pre-wrap>NA                 </span>                                                                                      </td><td>1206588947691790336                                                                                                                              </td><td><span style=white-space:pre-wrap>NA       </span>                                                                                                </td><td>&lt;a href=\"http://twitter.com/download/android\" rel=\"nofollow\"&gt;Twitter for Android&lt;/a&gt;                                                 </td><td>sayaksayaksen3                                                                                                                                   </td><td>217                                                                                                                                              </td><td> TRUE                                                                                                                                            </td><td>FALSE                                                                                                                                            </td><td>NA                                                                                                                                               </td><td>NA                                                                                                                                               </td></tr>\n",
       "\t<tr><td><span style=white-space:pre-wrap>RT @Waseem_Ahmed11: I FUCKING LOVE KERALA MAN. WHAT A STATE! All the political parties, religious leaders of different faiths came together…     </span></td><td>FALSE                                                                                                                                                                                    </td><td>0                                                                                                                                                                                        </td><td><span style=white-space:pre-wrap>NA           </span>                                                                                                                                    </td><td>2019-12-16 14:56:28                                                                                                                                                                      </td><td>FALSE                                                                                                                                                                                    </td><td><span style=white-space:pre-wrap>NA                 </span>                                                                                                                              </td><td>1206588912375721985                                                                                                                                                                      </td><td><span style=white-space:pre-wrap>NA       </span>                                                                                                                                        </td><td>&lt;a href=\"http://twitter.com/download/android\" rel=\"nofollow\"&gt;Twitter for Android&lt;/a&gt;                                                                                         </td><td>BharatRajagopal                                                                                                                                                                          </td><td><span style=white-space:pre-wrap>  7</span>                                                                                                                                              </td><td> TRUE                                                                                                                                                                                    </td><td>FALSE                                                                                                                                                                                    </td><td>NA                                                                                                                                                                                       </td><td>NA                                                                                                                                                                                       </td></tr>\n",
       "</tbody>\n",
       "</table>\n"
      ],
      "text/latex": [
       "\\begin{tabular}{r|llllllllllllllll}\n",
       " text & favorited & favoriteCount & replyToSN & created & truncated & replyToSID & id & replyToUID & statusSource & screenName & retweetCount & isRetweet & retweeted & longitude & latitude\\\\\n",
       "\\hline\n",
       "\t @tavleen\\_singh You do NOT Worry.\n",
       "\n",
       "\\#NRC will SAVE the very Fabric of BHARAT.                                                                     & FALSE                                                                                                                                                 & 0                                                                                                                                                     & tavleen\\_singh                                                                                                                                       & 2019-12-16 14:58:00                                                                                                                                   & FALSE                                                                                                                                                 & 1206386143664566272                                                                                                                                   & 1206589295856934913                                                                                                                                   & 118757160                                                                                                                                             & <a href=\"https://mobile.twitter.com\" rel=\"nofollow\">Twitter Web App</a>                                                                               & ShahDeepanV                                                                                                                                           &   0                                                                                                                                                   & FALSE                                                                                                                                                 & FALSE                                                                                                                                                 & NA                                                                                                                                                    & NA                                                                                                                                                   \\\\\n",
       "\t RT @FriedrichPieter: Arundhati Roy's statement on \\#CABBill2019. It \"eerily resembles the 1935 Nuremberg Laws of the Third Reich.\" Complianc…      & FALSE                                                                                                                                               & 0                                                                                                                                                   & NA                                                                                                                                                  & 2019-12-16 14:57:37                                                                                                                                 & FALSE                                                                                                                                               & NA                                                                                                                                                  & 1206589202655264769                                                                                                                                 & NA                                                                                                                                                  & <a href=\"http://twitter.com/download/android\" rel=\"nofollow\">Twitter for Android</a>                                                                & VazeIndian                                                                                                                                          & 172                                                                                                                                                 &  TRUE                                                                                                                                               & FALSE                                                                                                                                               & NA                                                                                                                                                  & NA                                                                                                                                                 \\\\\n",
       "\t RT @Ahmedshabbir20: Massive rally against \\#CAB \\&amp; \\#NRC by \\#MamataBanerjee. Mamata leadeong the rally \\&amp; huge crowd following her.           & FALSE                                                                                                                                                       & 0                                                                                                                                                           & NA                                                                                                                                                          & 2019-12-16 14:57:29                                                                                                                                         & FALSE                                                                                                                                                       & NA                                                                                                                                                          & 1206589165963374592                                                                                                                                         & NA                                                                                                                                                          & <a href=\"http://twitter.com/download/android\" rel=\"nofollow\">Twitter for Android</a>                                                                        & d\\_oncorleone                                                                                                                                              & 206                                                                                                                                                         &  TRUE                                                                                                                                                       & FALSE                                                                                                                                                       & NA                                                                                                                                                          & NA                                                                                                                                                         \\\\\n",
       "\t RT @abhijitmajumder: Here’s some news for those who said \\#CAA and \\#NRC would change nothing.\n",
       "This report says there’s a huge rush of panick…     & FALSE                                                                                                                                                 & 0                                                                                                                                                     & NA                                                                                                                                                    & 2019-12-16 14:57:23                                                                                                                                   & FALSE                                                                                                                                                 & NA                                                                                                                                                    & 1206589144069095430                                                                                                                                   & NA                                                                                                                                                    & <a href=\"http://twitter.com/download/android\" rel=\"nofollow\">Twitter for Android</a>                                                                  & gunaranjanch                                                                                                                                          & 729                                                                                                                                                   &  TRUE                                                                                                                                                 & FALSE                                                                                                                                                 & NA                                                                                                                                                    & NA                                                                                                                                                   \\\\\n",
       "\t RT @kamaalrkhan: If this is the public reaction for \\#CABBill2019 \\#NRC then it can lead to civil war in the country. Therefore govt must ret…      & FALSE                                                                                                                                                 & 0                                                                                                                                                     & NA                                                                                                                                                    & 2019-12-16 14:57:20                                                                                                                                   & FALSE                                                                                                                                                 & NA                                                                                                                                                    & 1206589128185237504                                                                                                                                   & NA                                                                                                                                                    & <a href=\"http://twitter.com/download/android\" rel=\"nofollow\">Twitter for Android</a>                                                                  & MdAatifHasan                                                                                                                                          & 138                                                                                                                                                   &  TRUE                                                                                                                                                 & FALSE                                                                                                                                                 & NA                                                                                                                                                    & NA                                                                                                                                                   \\\\\n",
       "\t Today's protests in Kolkata, Mamta Banerjee leading right in the front\n",
       "\n",
       "\\#CAB \\#NRC https://t.co/SA3xfFlbyF                                       & FALSE                                                                                                                                                 & 0                                                                                                                                                     & NA                                                                                                                                                    & 2019-12-16 14:57:15                                                                                                                                   & FALSE                                                                                                                                                 & NA                                                                                                                                                    & 1206589109818527745                                                                                                                                   & NA                                                                                                                                                    & <a href=\"http://twitter.com/download/android\" rel=\"nofollow\">Twitter for Android</a>                                                                  & Isaaq44897387                                                                                                                                         &   0                                                                                                                                                   & FALSE                                                                                                                                                 & FALSE                                                                                                                                                 & NA                                                                                                                                                    & NA                                                                                                                                                   \\\\\n",
       "\t RT @chaiandwai: The \\#MumbaiUniversity protest against the \\#PoliceBrutalityinJamia , \\#CitizenshipAmendmentAct and \\#NRC concluded with everyo…      & FALSE                                                                                                                                                     & 0                                                                                                                                                         & NA                                                                                                                                                        & 2019-12-16 14:57:08                                                                                                                                       & FALSE                                                                                                                                                     & NA                                                                                                                                                        & 1206589078260502529                                                                                                                                       & NA                                                                                                                                                        & <a href=\"https://mobile.twitter.com\" rel=\"nofollow\">Twitter Web App</a>                                                                                   & avatarinfinite                                                                                                                                            &  11                                                                                                                                                       &  TRUE                                                                                                                                                     & FALSE                                                                                                                                                     & NA                                                                                                                                                        & NA                                                                                                                                                       \\\\\n",
       "\t RT @bharatsharma\\_: Those who hero-worship Aurangzeb, Babur, \\#ISIS and Osama Bin Laden, how can they deem \\#CAB and \\#NRC correct.\n",
       "It makes th…     & FALSE                                                                                                                                                     & 0                                                                                                                                                         & NA                                                                                                                                                        & 2019-12-16 14:56:47                                                                                                                                       & FALSE                                                                                                                                                     & NA                                                                                                                                                        & 1206588991652286466                                                                                                                                       & NA                                                                                                                                                        & <a href=\"http://twitter.com/download/android\" rel=\"nofollow\">Twitter for Android</a>                                                                      & Tapasyasin                                                                                                                                                &  10                                                                                                                                                       &  TRUE                                                                                                                                                     & FALSE                                                                                                                                                     & NA                                                                                                                                                        & NA                                                                                                                                                       \\\\\n",
       "\t RT @mayukhrghosh: \\#CABProtests \\#NRC \n",
       "\"Over My Dead Body\"\n",
       "\n",
       "@MamataOfficial marches forward with people from all RELIGION. \n",
       "\n",
       "This is my City.… & FALSE                                                                                                                                                 & 0                                                                                                                                                     & NA                                                                                                                                                    & 2019-12-16 14:56:37                                                                                                                                   & FALSE                                                                                                                                                 & NA                                                                                                                                                    & 1206588947691790336                                                                                                                                   & NA                                                                                                                                                    & <a href=\"http://twitter.com/download/android\" rel=\"nofollow\">Twitter for Android</a>                                                                  & sayaksayaksen3                                                                                                                                        & 217                                                                                                                                                   &  TRUE                                                                                                                                                 & FALSE                                                                                                                                                 & NA                                                                                                                                                    & NA                                                                                                                                                   \\\\\n",
       "\t RT @Waseem\\_Ahmed11: I FUCKING LOVE KERALA MAN. WHAT A STATE! All the political parties, religious leaders of different faiths came together…      & FALSE                                                                                                                                               & 0                                                                                                                                                   & NA                                                                                                                                                  & 2019-12-16 14:56:28                                                                                                                                 & FALSE                                                                                                                                               & NA                                                                                                                                                  & 1206588912375721985                                                                                                                                 & NA                                                                                                                                                  & <a href=\"http://twitter.com/download/android\" rel=\"nofollow\">Twitter for Android</a>                                                                & BharatRajagopal                                                                                                                                     &   7                                                                                                                                                 &  TRUE                                                                                                                                               & FALSE                                                                                                                                               & NA                                                                                                                                                  & NA                                                                                                                                                 \\\\\n",
       "\\end{tabular}\n"
      ],
      "text/markdown": [
       "\n",
       "| text | favorited | favoriteCount | replyToSN | created | truncated | replyToSID | id | replyToUID | statusSource | screenName | retweetCount | isRetweet | retweeted | longitude | latitude |\n",
       "|---|---|---|---|---|---|---|---|---|---|---|---|---|---|---|---|\n",
       "| @tavleen_singh You do NOT Worry.\n",
       "\n",
       "#NRC will SAVE the very Fabric of BHARAT.                                                                     | FALSE                                                                                                                                             | 0                                                                                                                                                 | tavleen_singh                                                                                                                                     | 2019-12-16 14:58:00                                                                                                                               | FALSE                                                                                                                                             | 1206386143664566272                                                                                                                               | 1206589295856934913                                                                                                                               | 118757160                                                                                                                                         | <a href=\"https://mobile.twitter.com\" rel=\"nofollow\">Twitter Web App</a>                                                                           | ShahDeepanV                                                                                                                                       |   0                                                                                                                                               | FALSE                                                                                                                                             | FALSE                                                                                                                                             | NA                                                                                                                                                | NA                                                                                                                                                |\n",
       "| RT @FriedrichPieter: Arundhati Roy's statement on #CABBill2019. It \"eerily resembles the 1935 Nuremberg Laws of the Third Reich.\" Complianc…      | FALSE                                                                                                                                             | 0                                                                                                                                                 | NA                                                                                                                                                | 2019-12-16 14:57:37                                                                                                                               | FALSE                                                                                                                                             | NA                                                                                                                                                | 1206589202655264769                                                                                                                               | NA                                                                                                                                                | <a href=\"http://twitter.com/download/android\" rel=\"nofollow\">Twitter for Android</a>                                                              | VazeIndian                                                                                                                                        | 172                                                                                                                                               |  TRUE                                                                                                                                             | FALSE                                                                                                                                             | NA                                                                                                                                                | NA                                                                                                                                                |\n",
       "| RT @Ahmedshabbir20: Massive rally against #CAB &amp; #NRC by #MamataBanerjee. Mamata leadeong the rally &amp; huge crowd following her.           | FALSE                                                                                                                                             | 0                                                                                                                                                 | NA                                                                                                                                                | 2019-12-16 14:57:29                                                                                                                               | FALSE                                                                                                                                             | NA                                                                                                                                                | 1206589165963374592                                                                                                                               | NA                                                                                                                                                | <a href=\"http://twitter.com/download/android\" rel=\"nofollow\">Twitter for Android</a>                                                              | d_oncorleone                                                                                                                                      | 206                                                                                                                                               |  TRUE                                                                                                                                             | FALSE                                                                                                                                             | NA                                                                                                                                                | NA                                                                                                                                                |\n",
       "| RT @abhijitmajumder: Here’s some news for those who said #CAA and #NRC would change nothing.\n",
       "This report says there’s a huge rush of panick…     | FALSE                                                                                                                                             | 0                                                                                                                                                 | NA                                                                                                                                                | 2019-12-16 14:57:23                                                                                                                               | FALSE                                                                                                                                             | NA                                                                                                                                                | 1206589144069095430                                                                                                                               | NA                                                                                                                                                | <a href=\"http://twitter.com/download/android\" rel=\"nofollow\">Twitter for Android</a>                                                              | gunaranjanch                                                                                                                                      | 729                                                                                                                                               |  TRUE                                                                                                                                             | FALSE                                                                                                                                             | NA                                                                                                                                                | NA                                                                                                                                                |\n",
       "| RT @kamaalrkhan: If this is the public reaction for #CABBill2019 #NRC then it can lead to civil war in the country. Therefore govt must ret…      | FALSE                                                                                                                                             | 0                                                                                                                                                 | NA                                                                                                                                                | 2019-12-16 14:57:20                                                                                                                               | FALSE                                                                                                                                             | NA                                                                                                                                                | 1206589128185237504                                                                                                                               | NA                                                                                                                                                | <a href=\"http://twitter.com/download/android\" rel=\"nofollow\">Twitter for Android</a>                                                              | MdAatifHasan                                                                                                                                      | 138                                                                                                                                               |  TRUE                                                                                                                                             | FALSE                                                                                                                                             | NA                                                                                                                                                | NA                                                                                                                                                |\n",
       "| Today's protests in Kolkata, Mamta Banerjee leading right in the front\n",
       "\n",
       "#CAB #NRC https://t.co/SA3xfFlbyF                                       | FALSE                                                                                                                                             | 0                                                                                                                                                 | NA                                                                                                                                                | 2019-12-16 14:57:15                                                                                                                               | FALSE                                                                                                                                             | NA                                                                                                                                                | 1206589109818527745                                                                                                                               | NA                                                                                                                                                | <a href=\"http://twitter.com/download/android\" rel=\"nofollow\">Twitter for Android</a>                                                              | Isaaq44897387                                                                                                                                     |   0                                                                                                                                               | FALSE                                                                                                                                             | FALSE                                                                                                                                             | NA                                                                                                                                                | NA                                                                                                                                                |\n",
       "| RT @chaiandwai: The #MumbaiUniversity protest against the #PoliceBrutalityinJamia , #CitizenshipAmendmentAct and #NRC concluded with everyo…      | FALSE                                                                                                                                             | 0                                                                                                                                                 | NA                                                                                                                                                | 2019-12-16 14:57:08                                                                                                                               | FALSE                                                                                                                                             | NA                                                                                                                                                | 1206589078260502529                                                                                                                               | NA                                                                                                                                                | <a href=\"https://mobile.twitter.com\" rel=\"nofollow\">Twitter Web App</a>                                                                           | avatarinfinite                                                                                                                                    |  11                                                                                                                                               |  TRUE                                                                                                                                             | FALSE                                                                                                                                             | NA                                                                                                                                                | NA                                                                                                                                                |\n",
       "| RT @bharatsharma_: Those who hero-worship Aurangzeb, Babur, #ISIS and Osama Bin Laden, how can they deem #CAB and #NRC correct.\n",
       "It makes th…     | FALSE                                                                                                                                             | 0                                                                                                                                                 | NA                                                                                                                                                | 2019-12-16 14:56:47                                                                                                                               | FALSE                                                                                                                                             | NA                                                                                                                                                | 1206588991652286466                                                                                                                               | NA                                                                                                                                                | <a href=\"http://twitter.com/download/android\" rel=\"nofollow\">Twitter for Android</a>                                                              | Tapasyasin                                                                                                                                        |  10                                                                                                                                               |  TRUE                                                                                                                                             | FALSE                                                                                                                                             | NA                                                                                                                                                | NA                                                                                                                                                |\n",
       "| RT @mayukhrghosh: #CABProtests #NRC \n",
       "\"Over My Dead Body\"\n",
       "\n",
       "@MamataOfficial marches forward with people from all RELIGION. \n",
       "\n",
       "This is my City.… | FALSE                                                                                                                                             | 0                                                                                                                                                 | NA                                                                                                                                                | 2019-12-16 14:56:37                                                                                                                               | FALSE                                                                                                                                             | NA                                                                                                                                                | 1206588947691790336                                                                                                                               | NA                                                                                                                                                | <a href=\"http://twitter.com/download/android\" rel=\"nofollow\">Twitter for Android</a>                                                              | sayaksayaksen3                                                                                                                                    | 217                                                                                                                                               |  TRUE                                                                                                                                             | FALSE                                                                                                                                             | NA                                                                                                                                                | NA                                                                                                                                                |\n",
       "| RT @Waseem_Ahmed11: I FUCKING LOVE KERALA MAN. WHAT A STATE! All the political parties, religious leaders of different faiths came together…      | FALSE                                                                                                                                             | 0                                                                                                                                                 | NA                                                                                                                                                | 2019-12-16 14:56:28                                                                                                                               | FALSE                                                                                                                                             | NA                                                                                                                                                | 1206588912375721985                                                                                                                               | NA                                                                                                                                                | <a href=\"http://twitter.com/download/android\" rel=\"nofollow\">Twitter for Android</a>                                                              | BharatRajagopal                                                                                                                                   |   7                                                                                                                                               |  TRUE                                                                                                                                             | FALSE                                                                                                                                             | NA                                                                                                                                                | NA                                                                                                                                                |\n",
       "\n"
      ],
      "text/plain": [
       "   text                                                                                                                                             \n",
       "1  @tavleen_singh You do NOT Worry.\\n\\n#NRC will SAVE the very Fabric of BHARAT.                                                                    \n",
       "2  RT @FriedrichPieter: Arundhati Roy's statement on #CABBill2019. It \"eerily resembles the 1935 Nuremberg Laws of the Third Reich.\" Complianc…     \n",
       "3  RT @Ahmedshabbir20: Massive rally against #CAB &amp; #NRC by #MamataBanerjee. Mamata leadeong the rally &amp; huge crowd following her.          \n",
       "4  RT @abhijitmajumder: Here’s some news for those who said #CAA and #NRC would change nothing.\\nThis report says there’s a huge rush of panick…    \n",
       "5  RT @kamaalrkhan: If this is the public reaction for #CABBill2019 #NRC then it can lead to civil war in the country. Therefore govt must ret…     \n",
       "6  Today's protests in Kolkata, Mamta Banerjee leading right in the front\\n\\n#CAB #NRC https://t.co/SA3xfFlbyF                                      \n",
       "7  RT @chaiandwai: The #MumbaiUniversity protest against the #PoliceBrutalityinJamia , #CitizenshipAmendmentAct and #NRC concluded with everyo…     \n",
       "8  RT @bharatsharma_: Those who hero-worship Aurangzeb, Babur, #ISIS and Osama Bin Laden, how can they deem #CAB and #NRC correct.\\nIt makes th…    \n",
       "9  RT @mayukhrghosh: #CABProtests #NRC \\n\"Over My Dead Body\"\\n\\n@MamataOfficial marches forward with people from all RELIGION. \\n\\nThis is my City.…\n",
       "10 RT @Waseem_Ahmed11: I FUCKING LOVE KERALA MAN. WHAT A STATE! All the political parties, religious leaders of different faiths came together…     \n",
       "   favorited favoriteCount replyToSN     created             truncated\n",
       "1  FALSE     0             tavleen_singh 2019-12-16 14:58:00 FALSE    \n",
       "2  FALSE     0             NA            2019-12-16 14:57:37 FALSE    \n",
       "3  FALSE     0             NA            2019-12-16 14:57:29 FALSE    \n",
       "4  FALSE     0             NA            2019-12-16 14:57:23 FALSE    \n",
       "5  FALSE     0             NA            2019-12-16 14:57:20 FALSE    \n",
       "6  FALSE     0             NA            2019-12-16 14:57:15 FALSE    \n",
       "7  FALSE     0             NA            2019-12-16 14:57:08 FALSE    \n",
       "8  FALSE     0             NA            2019-12-16 14:56:47 FALSE    \n",
       "9  FALSE     0             NA            2019-12-16 14:56:37 FALSE    \n",
       "10 FALSE     0             NA            2019-12-16 14:56:28 FALSE    \n",
       "   replyToSID          id                  replyToUID\n",
       "1  1206386143664566272 1206589295856934913 118757160 \n",
       "2  NA                  1206589202655264769 NA        \n",
       "3  NA                  1206589165963374592 NA        \n",
       "4  NA                  1206589144069095430 NA        \n",
       "5  NA                  1206589128185237504 NA        \n",
       "6  NA                  1206589109818527745 NA        \n",
       "7  NA                  1206589078260502529 NA        \n",
       "8  NA                  1206588991652286466 NA        \n",
       "9  NA                  1206588947691790336 NA        \n",
       "10 NA                  1206588912375721985 NA        \n",
       "   statusSource                                                                        \n",
       "1  <a href=\"https://mobile.twitter.com\" rel=\"nofollow\">Twitter Web App</a>             \n",
       "2  <a href=\"http://twitter.com/download/android\" rel=\"nofollow\">Twitter for Android</a>\n",
       "3  <a href=\"http://twitter.com/download/android\" rel=\"nofollow\">Twitter for Android</a>\n",
       "4  <a href=\"http://twitter.com/download/android\" rel=\"nofollow\">Twitter for Android</a>\n",
       "5  <a href=\"http://twitter.com/download/android\" rel=\"nofollow\">Twitter for Android</a>\n",
       "6  <a href=\"http://twitter.com/download/android\" rel=\"nofollow\">Twitter for Android</a>\n",
       "7  <a href=\"https://mobile.twitter.com\" rel=\"nofollow\">Twitter Web App</a>             \n",
       "8  <a href=\"http://twitter.com/download/android\" rel=\"nofollow\">Twitter for Android</a>\n",
       "9  <a href=\"http://twitter.com/download/android\" rel=\"nofollow\">Twitter for Android</a>\n",
       "10 <a href=\"http://twitter.com/download/android\" rel=\"nofollow\">Twitter for Android</a>\n",
       "   screenName      retweetCount isRetweet retweeted longitude latitude\n",
       "1  ShahDeepanV       0          FALSE     FALSE     NA        NA      \n",
       "2  VazeIndian      172           TRUE     FALSE     NA        NA      \n",
       "3  d_oncorleone    206           TRUE     FALSE     NA        NA      \n",
       "4  gunaranjanch    729           TRUE     FALSE     NA        NA      \n",
       "5  MdAatifHasan    138           TRUE     FALSE     NA        NA      \n",
       "6  Isaaq44897387     0          FALSE     FALSE     NA        NA      \n",
       "7  avatarinfinite   11           TRUE     FALSE     NA        NA      \n",
       "8  Tapasyasin       10           TRUE     FALSE     NA        NA      \n",
       "9  sayaksayaksen3  217           TRUE     FALSE     NA        NA      \n",
       "10 BharatRajagopal   7           TRUE     FALSE     NA        NA      "
      ]
     },
     "metadata": {},
     "output_type": "display_data"
    }
   ],
   "source": [
    "search.string <- \"#nrc\"\n",
    "no.of.tweets <- 50\n",
    "tweets <- searchTwitter(search.string, n = no.of.tweets, lang = \"en\")\n",
    "tweets <- twListToDF(tweets)\n",
    "head(tweets, 10)"
   ]
  },
  {
   "cell_type": "markdown",
   "metadata": {},
   "source": [
    "### Creating a dataframe with the Tweets & Tweet IDs"
   ]
  },
  {
   "cell_type": "code",
   "execution_count": 5,
   "metadata": {},
   "outputs": [
    {
     "data": {
      "text/html": [
       "<table>\n",
       "<thead><tr><th scope=col>tweet_id</th><th scope=col>tweet</th></tr></thead>\n",
       "<tbody>\n",
       "\t<tr><td>1206589295856934913                                                                                                                          </td><td>@tavleen_singh You do NOT Worry.\n",
       "\n",
       "#NRC will SAVE the very Fabric of BHARAT.                                                                </td></tr>\n",
       "\t<tr><td>1206589202655264769                                                                                                                          </td><td>RT @FriedrichPieter: Arundhati Roy's statement on #CABBill2019. It \"eerily resembles the 1935 Nuremberg Laws of the Third Reich.\" Complianc… </td></tr>\n",
       "\t<tr><td>1206589165963374592                                                                                                                                                                          </td><td><span style=white-space:pre-wrap>RT @Ahmedshabbir20: Massive rally against #CAB &amp;amp; #NRC by #MamataBanerjee. Mamata leadeong the rally &amp;amp; huge crowd following her.      </span></td></tr>\n",
       "\t<tr><td>1206589144069095430                                                                                                                          </td><td>RT @abhijitmajumder: Here’s some news for those who said #CAA and #NRC would change nothing.\n",
       "This report says there’s a huge rush of panick…</td></tr>\n",
       "\t<tr><td>1206589128185237504                                                                                                                          </td><td>RT @kamaalrkhan: If this is the public reaction for #CABBill2019 #NRC then it can lead to civil war in the country. Therefore govt must ret… </td></tr>\n",
       "</tbody>\n",
       "</table>\n"
      ],
      "text/latex": [
       "\\begin{tabular}{r|ll}\n",
       " tweet\\_id & tweet\\\\\n",
       "\\hline\n",
       "\t 1206589295856934913                                                                                                                               & @tavleen\\_singh You do NOT Worry.\n",
       "\n",
       "\\#NRC will SAVE the very Fabric of BHARAT.                                                                \\\\\n",
       "\t 1206589202655264769                                                                                                                             & RT @FriedrichPieter: Arundhati Roy's statement on \\#CABBill2019. It \"eerily resembles the 1935 Nuremberg Laws of the Third Reich.\" Complianc… \\\\\n",
       "\t 1206589165963374592                                                                                                                                     & RT @Ahmedshabbir20: Massive rally against \\#CAB \\&amp; \\#NRC by \\#MamataBanerjee. Mamata leadeong the rally \\&amp; huge crowd following her.      \\\\\n",
       "\t 1206589144069095430                                                                                                                               & RT @abhijitmajumder: Here’s some news for those who said \\#CAA and \\#NRC would change nothing.\n",
       "This report says there’s a huge rush of panick…\\\\\n",
       "\t 1206589128185237504                                                                                                                               & RT @kamaalrkhan: If this is the public reaction for \\#CABBill2019 \\#NRC then it can lead to civil war in the country. Therefore govt must ret… \\\\\n",
       "\\end{tabular}\n"
      ],
      "text/markdown": [
       "\n",
       "| tweet_id | tweet |\n",
       "|---|---|\n",
       "| 1206589295856934913                                                                                                                           | @tavleen_singh You do NOT Worry.\n",
       "\n",
       "#NRC will SAVE the very Fabric of BHARAT.                                                                 |\n",
       "| 1206589202655264769                                                                                                                           | RT @FriedrichPieter: Arundhati Roy's statement on #CABBill2019. It \"eerily resembles the 1935 Nuremberg Laws of the Third Reich.\" Complianc…  |\n",
       "| 1206589165963374592                                                                                                                           | RT @Ahmedshabbir20: Massive rally against #CAB &amp; #NRC by #MamataBanerjee. Mamata leadeong the rally &amp; huge crowd following her.       |\n",
       "| 1206589144069095430                                                                                                                           | RT @abhijitmajumder: Here’s some news for those who said #CAA and #NRC would change nothing.\n",
       "This report says there’s a huge rush of panick… |\n",
       "| 1206589128185237504                                                                                                                           | RT @kamaalrkhan: If this is the public reaction for #CABBill2019 #NRC then it can lead to civil war in the country. Therefore govt must ret…  |\n",
       "\n"
      ],
      "text/plain": [
       "  tweet_id           \n",
       "1 1206589295856934913\n",
       "2 1206589202655264769\n",
       "3 1206589165963374592\n",
       "4 1206589144069095430\n",
       "5 1206589128185237504\n",
       "  tweet                                                                                                                                        \n",
       "1 @tavleen_singh You do NOT Worry.\\n\\n#NRC will SAVE the very Fabric of BHARAT.                                                                \n",
       "2 RT @FriedrichPieter: Arundhati Roy's statement on #CABBill2019. It \"eerily resembles the 1935 Nuremberg Laws of the Third Reich.\" Complianc… \n",
       "3 RT @Ahmedshabbir20: Massive rally against #CAB &amp; #NRC by #MamataBanerjee. Mamata leadeong the rally &amp; huge crowd following her.      \n",
       "4 RT @abhijitmajumder: Here’s some news for those who said #CAA and #NRC would change nothing.\\nThis report says there’s a huge rush of panick…\n",
       "5 RT @kamaalrkhan: If this is the public reaction for #CABBill2019 #NRC then it can lead to civil war in the country. Therefore govt must ret… "
      ]
     },
     "metadata": {},
     "output_type": "display_data"
    }
   ],
   "source": [
    "tw_df <- data_frame(tweet_id = tweets$id, tweet = tweets$text)\n",
    "head(tw_df, 5)"
   ]
  },
  {
   "cell_type": "markdown",
   "metadata": {},
   "source": [
    "### Splitting the 'tweet' column into tokens"
   ]
  },
  {
   "cell_type": "code",
   "execution_count": 6,
   "metadata": {},
   "outputs": [],
   "source": [
    "tw_df <- tw_df %>%\n",
    "  unnest_tokens(word, tweet)"
   ]
  },
  {
   "cell_type": "markdown",
   "metadata": {},
   "source": [
    "### Removing the Stop-Words"
   ]
  },
  {
   "cell_type": "code",
   "execution_count": 7,
   "metadata": {
    "scrolled": true
   },
   "outputs": [
    {
     "data": {
      "text/html": [
       "<table>\n",
       "<thead><tr><th scope=col>word</th><th scope=col>lexicon</th></tr></thead>\n",
       "<tbody>\n",
       "\t<tr><td>a        </td><td>SMART    </td></tr>\n",
       "\t<tr><td>a's      </td><td>SMART    </td></tr>\n",
       "\t<tr><td>able     </td><td>SMART    </td></tr>\n",
       "\t<tr><td>about    </td><td>SMART    </td></tr>\n",
       "\t<tr><td>above    </td><td>SMART    </td></tr>\n",
       "\t<tr><td>according</td><td>SMART    </td></tr>\n",
       "</tbody>\n",
       "</table>\n"
      ],
      "text/latex": [
       "\\begin{tabular}{r|ll}\n",
       " word & lexicon\\\\\n",
       "\\hline\n",
       "\t a         & SMART    \\\\\n",
       "\t a's       & SMART    \\\\\n",
       "\t able      & SMART    \\\\\n",
       "\t about     & SMART    \\\\\n",
       "\t above     & SMART    \\\\\n",
       "\t according & SMART    \\\\\n",
       "\\end{tabular}\n"
      ],
      "text/markdown": [
       "\n",
       "| word | lexicon |\n",
       "|---|---|\n",
       "| a         | SMART     |\n",
       "| a's       | SMART     |\n",
       "| able      | SMART     |\n",
       "| about     | SMART     |\n",
       "| above     | SMART     |\n",
       "| according | SMART     |\n",
       "\n"
      ],
      "text/plain": [
       "  word      lexicon\n",
       "1 a         SMART  \n",
       "2 a's       SMART  \n",
       "3 able      SMART  \n",
       "4 about     SMART  \n",
       "5 above     SMART  \n",
       "6 according SMART  "
      ]
     },
     "metadata": {},
     "output_type": "display_data"
    },
    {
     "name": "stderr",
     "output_type": "stream",
     "text": [
      "Joining, by = \"word\"\n"
     ]
    }
   ],
   "source": [
    "data(stop_words)\n",
    "head(stop_words)\n",
    "tw_df <- tw_df %>% anti_join(stop_words)"
   ]
  },
  {
   "cell_type": "markdown",
   "metadata": {},
   "source": [
    "### Categorization of words into positive and negative categories by the lexicon (dictionary)"
   ]
  },
  {
   "cell_type": "code",
   "execution_count": 8,
   "metadata": {},
   "outputs": [],
   "source": [
    "bing <- get_sentiments(\"bing\")"
   ]
  },
  {
   "cell_type": "markdown",
   "metadata": {},
   "source": [
    "### Joining the sentiment data"
   ]
  },
  {
   "cell_type": "code",
   "execution_count": 9,
   "metadata": {
    "scrolled": true
   },
   "outputs": [
    {
     "name": "stderr",
     "output_type": "stream",
     "text": [
      "Joining, by = \"word\"\n"
     ]
    },
    {
     "data": {
      "text/html": [
       "<table>\n",
       "<thead><tr><th scope=col>tweet_id</th><th scope=col>word</th><th scope=col>sentiment</th></tr></thead>\n",
       "<tbody>\n",
       "\t<tr><td>1206589295856934913</td><td>worry              </td><td>negative           </td></tr>\n",
       "\t<tr><td>1206589144069095430</td><td>panick             </td><td>negative           </td></tr>\n",
       "\t<tr><td>1206589128185237504</td><td>lead               </td><td>positive           </td></tr>\n",
       "\t<tr><td>1206589109818527745</td><td>protests           </td><td>negative           </td></tr>\n",
       "\t<tr><td>1206589109818527745</td><td>leading            </td><td>positive           </td></tr>\n",
       "\t<tr><td>1206589078260502529</td><td>protest            </td><td>negative           </td></tr>\n",
       "\t<tr><td>1206588991652286466</td><td>hero               </td><td>positive           </td></tr>\n",
       "\t<tr><td>1206588991652286466</td><td>correct            </td><td>positive           </td></tr>\n",
       "\t<tr><td>1206588947691790336</td><td>dead               </td><td>negative           </td></tr>\n",
       "\t<tr><td>1206588912375721985</td><td>fucking            </td><td>negative           </td></tr>\n",
       "\t<tr><td>1206588912375721985</td><td>love               </td><td>positive           </td></tr>\n",
       "\t<tr><td>1206588896563220481</td><td>protest            </td><td>negative           </td></tr>\n",
       "\t<tr><td>1206588823339188225</td><td>scary              </td><td>negative           </td></tr>\n",
       "\t<tr><td>1206588760772792320</td><td>panick             </td><td>negative           </td></tr>\n",
       "\t<tr><td>1206588723963416577</td><td>discriminate       </td><td>negative           </td></tr>\n",
       "\t<tr><td>1206588678463602688</td><td>harmony            </td><td>positive           </td></tr>\n",
       "\t<tr><td>1206588619126902784</td><td>panick             </td><td>negative           </td></tr>\n",
       "\t<tr><td>1206588588554518529</td><td>courage            </td><td>positive           </td></tr>\n",
       "\t<tr><td>1206588491242409984</td><td>overturn           </td><td>negative           </td></tr>\n",
       "\t<tr><td>1206588491242409984</td><td>peaceful           </td><td>positive           </td></tr>\n",
       "\t<tr><td>1206588491242409984</td><td>protests           </td><td>negative           </td></tr>\n",
       "\t<tr><td>1206588434036510721</td><td>panick             </td><td>negative           </td></tr>\n",
       "\t<tr><td>1206588420564254720</td><td>fresh              </td><td>positive           </td></tr>\n",
       "\t<tr><td>1206588420564254720</td><td>controversy        </td><td>negative           </td></tr>\n",
       "\t<tr><td>1206588420564254720</td><td>oppose             </td><td>negative           </td></tr>\n",
       "\t<tr><td>1206588361307127808</td><td>panick             </td><td>negative           </td></tr>\n",
       "\t<tr><td>1206588296622559232</td><td>panick             </td><td>negative           </td></tr>\n",
       "\t<tr><td>1206588275009306625</td><td>illegal            </td><td>negative           </td></tr>\n",
       "\t<tr><td>1206588237638012934</td><td>protest            </td><td>negative           </td></tr>\n",
       "\t<tr><td>1206588237638012934</td><td>unconstitutional   </td><td>negative           </td></tr>\n",
       "\t<tr><td>1206588189797801984</td><td>peace              </td><td>positive           </td></tr>\n",
       "\t<tr><td>1206588189797801984</td><td>protesting         </td><td>negative           </td></tr>\n",
       "\t<tr><td>1206588187818151937</td><td>shame              </td><td>negative           </td></tr>\n",
       "\t<tr><td>1206588187818151937</td><td>issue              </td><td>negative           </td></tr>\n",
       "\t<tr><td>1206588181136596994</td><td>discriminate       </td><td>negative           </td></tr>\n",
       "\t<tr><td>1206588148756701185</td><td>protests           </td><td>negative           </td></tr>\n",
       "\t<tr><td>1206588100639481862</td><td>panick             </td><td>negative           </td></tr>\n",
       "\t<tr><td>1206588030166822912</td><td>fear               </td><td>negative           </td></tr>\n",
       "\t<tr><td>1206588030166822912</td><td>illegal            </td><td>negative           </td></tr>\n",
       "\t<tr><td>1206588019345481728</td><td>dead               </td><td>negative           </td></tr>\n",
       "\t<tr><td>1206587967373885441</td><td>panick             </td><td>negative           </td></tr>\n",
       "\t<tr><td>1206587882313437184</td><td>support            </td><td>positive           </td></tr>\n",
       "\t<tr><td>1206587882313437184</td><td>protesting         </td><td>negative           </td></tr>\n",
       "\t<tr><td>1206587838138998784</td><td>panick             </td><td>negative           </td></tr>\n",
       "</tbody>\n",
       "</table>\n"
      ],
      "text/latex": [
       "\\begin{tabular}{r|lll}\n",
       " tweet\\_id & word & sentiment\\\\\n",
       "\\hline\n",
       "\t 1206589295856934913 & worry               & negative           \\\\\n",
       "\t 1206589144069095430 & panick              & negative           \\\\\n",
       "\t 1206589128185237504 & lead                & positive           \\\\\n",
       "\t 1206589109818527745 & protests            & negative           \\\\\n",
       "\t 1206589109818527745 & leading             & positive           \\\\\n",
       "\t 1206589078260502529 & protest             & negative           \\\\\n",
       "\t 1206588991652286466 & hero                & positive           \\\\\n",
       "\t 1206588991652286466 & correct             & positive           \\\\\n",
       "\t 1206588947691790336 & dead                & negative           \\\\\n",
       "\t 1206588912375721985 & fucking             & negative           \\\\\n",
       "\t 1206588912375721985 & love                & positive           \\\\\n",
       "\t 1206588896563220481 & protest             & negative           \\\\\n",
       "\t 1206588823339188225 & scary               & negative           \\\\\n",
       "\t 1206588760772792320 & panick              & negative           \\\\\n",
       "\t 1206588723963416577 & discriminate        & negative           \\\\\n",
       "\t 1206588678463602688 & harmony             & positive           \\\\\n",
       "\t 1206588619126902784 & panick              & negative           \\\\\n",
       "\t 1206588588554518529 & courage             & positive           \\\\\n",
       "\t 1206588491242409984 & overturn            & negative           \\\\\n",
       "\t 1206588491242409984 & peaceful            & positive           \\\\\n",
       "\t 1206588491242409984 & protests            & negative           \\\\\n",
       "\t 1206588434036510721 & panick              & negative           \\\\\n",
       "\t 1206588420564254720 & fresh               & positive           \\\\\n",
       "\t 1206588420564254720 & controversy         & negative           \\\\\n",
       "\t 1206588420564254720 & oppose              & negative           \\\\\n",
       "\t 1206588361307127808 & panick              & negative           \\\\\n",
       "\t 1206588296622559232 & panick              & negative           \\\\\n",
       "\t 1206588275009306625 & illegal             & negative           \\\\\n",
       "\t 1206588237638012934 & protest             & negative           \\\\\n",
       "\t 1206588237638012934 & unconstitutional    & negative           \\\\\n",
       "\t 1206588189797801984 & peace               & positive           \\\\\n",
       "\t 1206588189797801984 & protesting          & negative           \\\\\n",
       "\t 1206588187818151937 & shame               & negative           \\\\\n",
       "\t 1206588187818151937 & issue               & negative           \\\\\n",
       "\t 1206588181136596994 & discriminate        & negative           \\\\\n",
       "\t 1206588148756701185 & protests            & negative           \\\\\n",
       "\t 1206588100639481862 & panick              & negative           \\\\\n",
       "\t 1206588030166822912 & fear                & negative           \\\\\n",
       "\t 1206588030166822912 & illegal             & negative           \\\\\n",
       "\t 1206588019345481728 & dead                & negative           \\\\\n",
       "\t 1206587967373885441 & panick              & negative           \\\\\n",
       "\t 1206587882313437184 & support             & positive           \\\\\n",
       "\t 1206587882313437184 & protesting          & negative           \\\\\n",
       "\t 1206587838138998784 & panick              & negative           \\\\\n",
       "\\end{tabular}\n"
      ],
      "text/markdown": [
       "\n",
       "| tweet_id | word | sentiment |\n",
       "|---|---|---|\n",
       "| 1206589295856934913 | worry               | negative            |\n",
       "| 1206589144069095430 | panick              | negative            |\n",
       "| 1206589128185237504 | lead                | positive            |\n",
       "| 1206589109818527745 | protests            | negative            |\n",
       "| 1206589109818527745 | leading             | positive            |\n",
       "| 1206589078260502529 | protest             | negative            |\n",
       "| 1206588991652286466 | hero                | positive            |\n",
       "| 1206588991652286466 | correct             | positive            |\n",
       "| 1206588947691790336 | dead                | negative            |\n",
       "| 1206588912375721985 | fucking             | negative            |\n",
       "| 1206588912375721985 | love                | positive            |\n",
       "| 1206588896563220481 | protest             | negative            |\n",
       "| 1206588823339188225 | scary               | negative            |\n",
       "| 1206588760772792320 | panick              | negative            |\n",
       "| 1206588723963416577 | discriminate        | negative            |\n",
       "| 1206588678463602688 | harmony             | positive            |\n",
       "| 1206588619126902784 | panick              | negative            |\n",
       "| 1206588588554518529 | courage             | positive            |\n",
       "| 1206588491242409984 | overturn            | negative            |\n",
       "| 1206588491242409984 | peaceful            | positive            |\n",
       "| 1206588491242409984 | protests            | negative            |\n",
       "| 1206588434036510721 | panick              | negative            |\n",
       "| 1206588420564254720 | fresh               | positive            |\n",
       "| 1206588420564254720 | controversy         | negative            |\n",
       "| 1206588420564254720 | oppose              | negative            |\n",
       "| 1206588361307127808 | panick              | negative            |\n",
       "| 1206588296622559232 | panick              | negative            |\n",
       "| 1206588275009306625 | illegal             | negative            |\n",
       "| 1206588237638012934 | protest             | negative            |\n",
       "| 1206588237638012934 | unconstitutional    | negative            |\n",
       "| 1206588189797801984 | peace               | positive            |\n",
       "| 1206588189797801984 | protesting          | negative            |\n",
       "| 1206588187818151937 | shame               | negative            |\n",
       "| 1206588187818151937 | issue               | negative            |\n",
       "| 1206588181136596994 | discriminate        | negative            |\n",
       "| 1206588148756701185 | protests            | negative            |\n",
       "| 1206588100639481862 | panick              | negative            |\n",
       "| 1206588030166822912 | fear                | negative            |\n",
       "| 1206588030166822912 | illegal             | negative            |\n",
       "| 1206588019345481728 | dead                | negative            |\n",
       "| 1206587967373885441 | panick              | negative            |\n",
       "| 1206587882313437184 | support             | positive            |\n",
       "| 1206587882313437184 | protesting          | negative            |\n",
       "| 1206587838138998784 | panick              | negative            |\n",
       "\n"
      ],
      "text/plain": [
       "   tweet_id            word             sentiment\n",
       "1  1206589295856934913 worry            negative \n",
       "2  1206589144069095430 panick           negative \n",
       "3  1206589128185237504 lead             positive \n",
       "4  1206589109818527745 protests         negative \n",
       "5  1206589109818527745 leading          positive \n",
       "6  1206589078260502529 protest          negative \n",
       "7  1206588991652286466 hero             positive \n",
       "8  1206588991652286466 correct          positive \n",
       "9  1206588947691790336 dead             negative \n",
       "10 1206588912375721985 fucking          negative \n",
       "11 1206588912375721985 love             positive \n",
       "12 1206588896563220481 protest          negative \n",
       "13 1206588823339188225 scary            negative \n",
       "14 1206588760772792320 panick           negative \n",
       "15 1206588723963416577 discriminate     negative \n",
       "16 1206588678463602688 harmony          positive \n",
       "17 1206588619126902784 panick           negative \n",
       "18 1206588588554518529 courage          positive \n",
       "19 1206588491242409984 overturn         negative \n",
       "20 1206588491242409984 peaceful         positive \n",
       "21 1206588491242409984 protests         negative \n",
       "22 1206588434036510721 panick           negative \n",
       "23 1206588420564254720 fresh            positive \n",
       "24 1206588420564254720 controversy      negative \n",
       "25 1206588420564254720 oppose           negative \n",
       "26 1206588361307127808 panick           negative \n",
       "27 1206588296622559232 panick           negative \n",
       "28 1206588275009306625 illegal          negative \n",
       "29 1206588237638012934 protest          negative \n",
       "30 1206588237638012934 unconstitutional negative \n",
       "31 1206588189797801984 peace            positive \n",
       "32 1206588189797801984 protesting       negative \n",
       "33 1206588187818151937 shame            negative \n",
       "34 1206588187818151937 issue            negative \n",
       "35 1206588181136596994 discriminate     negative \n",
       "36 1206588148756701185 protests         negative \n",
       "37 1206588100639481862 panick           negative \n",
       "38 1206588030166822912 fear             negative \n",
       "39 1206588030166822912 illegal          negative \n",
       "40 1206588019345481728 dead             negative \n",
       "41 1206587967373885441 panick           negative \n",
       "42 1206587882313437184 support          positive \n",
       "43 1206587882313437184 protesting       negative \n",
       "44 1206587838138998784 panick           negative "
      ]
     },
     "metadata": {},
     "output_type": "display_data"
    }
   ],
   "source": [
    "tw_df %>% inner_join(bing)"
   ]
  },
  {
   "cell_type": "markdown",
   "metadata": {},
   "source": [
    "### Grouping the sentiment data"
   ]
  },
  {
   "cell_type": "code",
   "execution_count": 10,
   "metadata": {
    "scrolled": true
   },
   "outputs": [
    {
     "name": "stderr",
     "output_type": "stream",
     "text": [
      "Joining, by = \"word\"\n"
     ]
    },
    {
     "data": {
      "text/html": [
       "<table>\n",
       "<thead><tr><th scope=col>tweet_id</th><th scope=col>sentiment</th><th scope=col>n</th></tr></thead>\n",
       "<tbody>\n",
       "\t<tr><td>1206587838138998784</td><td>negative           </td><td>1                  </td></tr>\n",
       "\t<tr><td>1206587882313437184</td><td>negative           </td><td>1                  </td></tr>\n",
       "\t<tr><td>1206587882313437184</td><td>positive           </td><td>1                  </td></tr>\n",
       "\t<tr><td>1206587967373885441</td><td>negative           </td><td>1                  </td></tr>\n",
       "\t<tr><td>1206588019345481728</td><td>negative           </td><td>1                  </td></tr>\n",
       "\t<tr><td>1206588030166822912</td><td>negative           </td><td>2                  </td></tr>\n",
       "\t<tr><td>1206588100639481862</td><td>negative           </td><td>1                  </td></tr>\n",
       "\t<tr><td>1206588148756701185</td><td>negative           </td><td>1                  </td></tr>\n",
       "\t<tr><td>1206588181136596994</td><td>negative           </td><td>1                  </td></tr>\n",
       "\t<tr><td>1206588187818151937</td><td>negative           </td><td>2                  </td></tr>\n",
       "\t<tr><td>1206588189797801984</td><td>negative           </td><td>1                  </td></tr>\n",
       "\t<tr><td>1206588189797801984</td><td>positive           </td><td>1                  </td></tr>\n",
       "\t<tr><td>1206588237638012934</td><td>negative           </td><td>2                  </td></tr>\n",
       "\t<tr><td>1206588275009306625</td><td>negative           </td><td>1                  </td></tr>\n",
       "\t<tr><td>1206588296622559232</td><td>negative           </td><td>1                  </td></tr>\n",
       "\t<tr><td>1206588361307127808</td><td>negative           </td><td>1                  </td></tr>\n",
       "\t<tr><td>1206588420564254720</td><td>negative           </td><td>2                  </td></tr>\n",
       "\t<tr><td>1206588420564254720</td><td>positive           </td><td>1                  </td></tr>\n",
       "\t<tr><td>1206588434036510721</td><td>negative           </td><td>1                  </td></tr>\n",
       "\t<tr><td>1206588491242409984</td><td>negative           </td><td>2                  </td></tr>\n",
       "\t<tr><td>1206588491242409984</td><td>positive           </td><td>1                  </td></tr>\n",
       "\t<tr><td>1206588588554518529</td><td>positive           </td><td>1                  </td></tr>\n",
       "\t<tr><td>1206588619126902784</td><td>negative           </td><td>1                  </td></tr>\n",
       "\t<tr><td>1206588678463602688</td><td>positive           </td><td>1                  </td></tr>\n",
       "\t<tr><td>1206588723963416577</td><td>negative           </td><td>1                  </td></tr>\n",
       "\t<tr><td>1206588760772792320</td><td>negative           </td><td>1                  </td></tr>\n",
       "\t<tr><td>1206588823339188225</td><td>negative           </td><td>1                  </td></tr>\n",
       "\t<tr><td>1206588896563220481</td><td>negative           </td><td>1                  </td></tr>\n",
       "\t<tr><td>1206588912375721985</td><td>negative           </td><td>1                  </td></tr>\n",
       "\t<tr><td>1206588912375721985</td><td>positive           </td><td>1                  </td></tr>\n",
       "\t<tr><td>1206588947691790336</td><td>negative           </td><td>1                  </td></tr>\n",
       "\t<tr><td>1206588991652286466</td><td>positive           </td><td>2                  </td></tr>\n",
       "\t<tr><td>1206589078260502529</td><td>negative           </td><td>1                  </td></tr>\n",
       "\t<tr><td>1206589109818527745</td><td>negative           </td><td>1                  </td></tr>\n",
       "\t<tr><td>1206589109818527745</td><td>positive           </td><td>1                  </td></tr>\n",
       "\t<tr><td>1206589128185237504</td><td>positive           </td><td>1                  </td></tr>\n",
       "\t<tr><td>1206589144069095430</td><td>negative           </td><td>1                  </td></tr>\n",
       "\t<tr><td>1206589295856934913</td><td>negative           </td><td>1                  </td></tr>\n",
       "</tbody>\n",
       "</table>\n"
      ],
      "text/latex": [
       "\\begin{tabular}{r|lll}\n",
       " tweet\\_id & sentiment & n\\\\\n",
       "\\hline\n",
       "\t 1206587838138998784 & negative            & 1                  \\\\\n",
       "\t 1206587882313437184 & negative            & 1                  \\\\\n",
       "\t 1206587882313437184 & positive            & 1                  \\\\\n",
       "\t 1206587967373885441 & negative            & 1                  \\\\\n",
       "\t 1206588019345481728 & negative            & 1                  \\\\\n",
       "\t 1206588030166822912 & negative            & 2                  \\\\\n",
       "\t 1206588100639481862 & negative            & 1                  \\\\\n",
       "\t 1206588148756701185 & negative            & 1                  \\\\\n",
       "\t 1206588181136596994 & negative            & 1                  \\\\\n",
       "\t 1206588187818151937 & negative            & 2                  \\\\\n",
       "\t 1206588189797801984 & negative            & 1                  \\\\\n",
       "\t 1206588189797801984 & positive            & 1                  \\\\\n",
       "\t 1206588237638012934 & negative            & 2                  \\\\\n",
       "\t 1206588275009306625 & negative            & 1                  \\\\\n",
       "\t 1206588296622559232 & negative            & 1                  \\\\\n",
       "\t 1206588361307127808 & negative            & 1                  \\\\\n",
       "\t 1206588420564254720 & negative            & 2                  \\\\\n",
       "\t 1206588420564254720 & positive            & 1                  \\\\\n",
       "\t 1206588434036510721 & negative            & 1                  \\\\\n",
       "\t 1206588491242409984 & negative            & 2                  \\\\\n",
       "\t 1206588491242409984 & positive            & 1                  \\\\\n",
       "\t 1206588588554518529 & positive            & 1                  \\\\\n",
       "\t 1206588619126902784 & negative            & 1                  \\\\\n",
       "\t 1206588678463602688 & positive            & 1                  \\\\\n",
       "\t 1206588723963416577 & negative            & 1                  \\\\\n",
       "\t 1206588760772792320 & negative            & 1                  \\\\\n",
       "\t 1206588823339188225 & negative            & 1                  \\\\\n",
       "\t 1206588896563220481 & negative            & 1                  \\\\\n",
       "\t 1206588912375721985 & negative            & 1                  \\\\\n",
       "\t 1206588912375721985 & positive            & 1                  \\\\\n",
       "\t 1206588947691790336 & negative            & 1                  \\\\\n",
       "\t 1206588991652286466 & positive            & 2                  \\\\\n",
       "\t 1206589078260502529 & negative            & 1                  \\\\\n",
       "\t 1206589109818527745 & negative            & 1                  \\\\\n",
       "\t 1206589109818527745 & positive            & 1                  \\\\\n",
       "\t 1206589128185237504 & positive            & 1                  \\\\\n",
       "\t 1206589144069095430 & negative            & 1                  \\\\\n",
       "\t 1206589295856934913 & negative            & 1                  \\\\\n",
       "\\end{tabular}\n"
      ],
      "text/markdown": [
       "\n",
       "| tweet_id | sentiment | n |\n",
       "|---|---|---|\n",
       "| 1206587838138998784 | negative            | 1                   |\n",
       "| 1206587882313437184 | negative            | 1                   |\n",
       "| 1206587882313437184 | positive            | 1                   |\n",
       "| 1206587967373885441 | negative            | 1                   |\n",
       "| 1206588019345481728 | negative            | 1                   |\n",
       "| 1206588030166822912 | negative            | 2                   |\n",
       "| 1206588100639481862 | negative            | 1                   |\n",
       "| 1206588148756701185 | negative            | 1                   |\n",
       "| 1206588181136596994 | negative            | 1                   |\n",
       "| 1206588187818151937 | negative            | 2                   |\n",
       "| 1206588189797801984 | negative            | 1                   |\n",
       "| 1206588189797801984 | positive            | 1                   |\n",
       "| 1206588237638012934 | negative            | 2                   |\n",
       "| 1206588275009306625 | negative            | 1                   |\n",
       "| 1206588296622559232 | negative            | 1                   |\n",
       "| 1206588361307127808 | negative            | 1                   |\n",
       "| 1206588420564254720 | negative            | 2                   |\n",
       "| 1206588420564254720 | positive            | 1                   |\n",
       "| 1206588434036510721 | negative            | 1                   |\n",
       "| 1206588491242409984 | negative            | 2                   |\n",
       "| 1206588491242409984 | positive            | 1                   |\n",
       "| 1206588588554518529 | positive            | 1                   |\n",
       "| 1206588619126902784 | negative            | 1                   |\n",
       "| 1206588678463602688 | positive            | 1                   |\n",
       "| 1206588723963416577 | negative            | 1                   |\n",
       "| 1206588760772792320 | negative            | 1                   |\n",
       "| 1206588823339188225 | negative            | 1                   |\n",
       "| 1206588896563220481 | negative            | 1                   |\n",
       "| 1206588912375721985 | negative            | 1                   |\n",
       "| 1206588912375721985 | positive            | 1                   |\n",
       "| 1206588947691790336 | negative            | 1                   |\n",
       "| 1206588991652286466 | positive            | 2                   |\n",
       "| 1206589078260502529 | negative            | 1                   |\n",
       "| 1206589109818527745 | negative            | 1                   |\n",
       "| 1206589109818527745 | positive            | 1                   |\n",
       "| 1206589128185237504 | positive            | 1                   |\n",
       "| 1206589144069095430 | negative            | 1                   |\n",
       "| 1206589295856934913 | negative            | 1                   |\n",
       "\n"
      ],
      "text/plain": [
       "   tweet_id            sentiment n\n",
       "1  1206587838138998784 negative  1\n",
       "2  1206587882313437184 negative  1\n",
       "3  1206587882313437184 positive  1\n",
       "4  1206587967373885441 negative  1\n",
       "5  1206588019345481728 negative  1\n",
       "6  1206588030166822912 negative  2\n",
       "7  1206588100639481862 negative  1\n",
       "8  1206588148756701185 negative  1\n",
       "9  1206588181136596994 negative  1\n",
       "10 1206588187818151937 negative  2\n",
       "11 1206588189797801984 negative  1\n",
       "12 1206588189797801984 positive  1\n",
       "13 1206588237638012934 negative  2\n",
       "14 1206588275009306625 negative  1\n",
       "15 1206588296622559232 negative  1\n",
       "16 1206588361307127808 negative  1\n",
       "17 1206588420564254720 negative  2\n",
       "18 1206588420564254720 positive  1\n",
       "19 1206588434036510721 negative  1\n",
       "20 1206588491242409984 negative  2\n",
       "21 1206588491242409984 positive  1\n",
       "22 1206588588554518529 positive  1\n",
       "23 1206588619126902784 negative  1\n",
       "24 1206588678463602688 positive  1\n",
       "25 1206588723963416577 negative  1\n",
       "26 1206588760772792320 negative  1\n",
       "27 1206588823339188225 negative  1\n",
       "28 1206588896563220481 negative  1\n",
       "29 1206588912375721985 negative  1\n",
       "30 1206588912375721985 positive  1\n",
       "31 1206588947691790336 negative  1\n",
       "32 1206588991652286466 positive  2\n",
       "33 1206589078260502529 negative  1\n",
       "34 1206589109818527745 negative  1\n",
       "35 1206589109818527745 positive  1\n",
       "36 1206589128185237504 positive  1\n",
       "37 1206589144069095430 negative  1\n",
       "38 1206589295856934913 negative  1"
      ]
     },
     "metadata": {},
     "output_type": "display_data"
    }
   ],
   "source": [
    "tw_df %>% inner_join(bing) %>% count(tweet_id, sentiment)"
   ]
  },
  {
   "cell_type": "markdown",
   "metadata": {},
   "source": [
    "### Plotting the sentiment data"
   ]
  },
  {
   "cell_type": "code",
   "execution_count": 11,
   "metadata": {
    "scrolled": false
   },
   "outputs": [
    {
     "name": "stderr",
     "output_type": "stream",
     "text": [
      "Joining, by = \"word\"\n"
     ]
    },
    {
     "data": {
      "image/png": "[encoded data removed]",
      "text/plain": [
       "plot without title"
      ]
     },
     "metadata": {},
     "output_type": "display_data"
    }
   ],
   "source": [
    "tw_df %>% \n",
    "  inner_join(bing) %>% \n",
    "  count(sentiment) %>%\n",
    "  ggplot(aes(sentiment, n, fill = sentiment))+\n",
    "  geom_col()+\n",
    "  theme_bw()"
   ]
  }
 ],
 "metadata": {
  "kernelspec": {
   "display_name": "R",
   "language": "R",
   "name": "ir"
  },
  "language_info": {
   "codemirror_mode": "r",
   "file_extension": ".r",
   "mimetype": "text/x-r-source",
   "name": "R",
   "pygments_lexer": "r",
   "version": "3.6.1"
  }
 },
 "nbformat": 4,
 "nbformat_minor": 2
}
